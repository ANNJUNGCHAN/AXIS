{
 "cells": [
  {
   "cell_type": "markdown",
   "metadata": {},
   "source": [
    "### 패키지로드"
   ]
  },
  {
   "cell_type": "code",
   "execution_count": 1,
   "metadata": {},
   "outputs": [],
   "source": [
    "import os\n",
    "import shutil\n",
    "import DataProcessingTool"
   ]
  },
  {
   "cell_type": "markdown",
   "metadata": {},
   "source": [
    "### 백그라운드 데이터와 라벨링 데이터"
   ]
  },
  {
   "cell_type": "code",
   "execution_count": 2,
   "metadata": {},
   "outputs": [],
   "source": [
    "# 경로 적기\n",
    "data_path = \"D:/xray_data/before\" # 혼재된 데이터셋 위치\n",
    "label_path = \"D:/xray_data/label\" # 라벨데이터 저장 위치\n",
    "background_path = \"D:/xray_data/background\" # 백그라운드 데이터 저장 위치"
   ]
  },
  {
   "cell_type": "code",
   "execution_count": 3,
   "metadata": {},
   "outputs": [],
   "source": [
    "# 파일의 이름만 추출하여 이동시킴\n",
    "## 1. 우선 txt 파일만 추출\n",
    "datalist = os.listdir(data_path)\n",
    "\n",
    "txtlist = []\n",
    "for data in datalist :\n",
    "    if 'txt' in data :\n",
    "        txtlist.append(data)\n",
    "    else :\n",
    "        pass\n",
    "        \n",
    "## 2. txt 파일이 비어있는지 확인\n",
    "isemptytxt = []\n",
    "notemptytxt = []\n",
    "\n",
    "for txt in txtlist :\n",
    "    isnotempty = DataProcessingTool.is_file_not_empty(os.path.join(data_path, txt))\n",
    "    if isnotempty is True :\n",
    "        notemptytxt.append(txt)\n",
    "    else :\n",
    "        isemptytxt.append(txt)"
   ]
  },
  {
   "cell_type": "code",
   "execution_count": 4,
   "metadata": {},
   "outputs": [],
   "source": [
    "## 3. background 파일 옮기기\n",
    "for txt in isemptytxt :\n",
    "    DataProcessingTool.file_mover(data_path, background_path, txt)"
   ]
  },
  {
   "cell_type": "markdown",
   "metadata": {},
   "source": [
    "### 클래스 일원화\n",
    "- 모두 클래스를 0으로 만든다"
   ]
  },
  {
   "cell_type": "code",
   "execution_count": 9,
   "metadata": {},
   "outputs": [],
   "source": [
    "input_path = \"D:/xray_data/before/ANSUNG_2023-01-02-075003974_NS1_NG.txt\"\n",
    "lines = DataProcessingTool.open_txt(input_path)"
   ]
  },
  {
   "cell_type": "code",
   "execution_count": 11,
   "metadata": {},
   "outputs": [],
   "source": [
    "modify_lines = DataProcessingTool.oneclass_modify(lines)"
   ]
  }
 ],
 "metadata": {
  "kernelspec": {
   "display_name": "xray",
   "language": "python",
   "name": "python3"
  },
  "language_info": {
   "codemirror_mode": {
    "name": "ipython",
    "version": 3
   },
   "file_extension": ".py",
   "mimetype": "text/x-python",
   "name": "python",
   "nbconvert_exporter": "python",
   "pygments_lexer": "ipython3",
   "version": "3.8.0"
  }
 },
 "nbformat": 4,
 "nbformat_minor": 2
}
