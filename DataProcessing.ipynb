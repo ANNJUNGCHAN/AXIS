{
 "cells": [
  {
   "cell_type": "markdown",
   "metadata": {},
   "source": [
    "### 패키지로드"
   ]
  },
  {
   "cell_type": "code",
   "execution_count": 1,
   "metadata": {},
   "outputs": [],
   "source": [
    "import os\n",
    "import shutil\n",
    "import DataProcessingTool"
   ]
  },
  {
   "cell_type": "markdown",
   "metadata": {},
   "source": [
    "### 백그라운드 데이터와 라벨링 데이터"
   ]
  },
  {
   "cell_type": "code",
   "execution_count": 3,
   "metadata": {},
   "outputs": [],
   "source": [
    "# 경로 적기\n",
    "data_path = \"D:/xray_data/data\" # 혼재된 데이터셋 위치\n",
    "label_path = \"D:/xray_data/label\" # 라벨데이터 저장 위치\n",
    "background_path = \"D:/xray_data/background\" # 백그라운드 데이터 저장 위치"
   ]
  },
  {
   "cell_type": "code",
   "execution_count": 4,
   "metadata": {},
   "outputs": [],
   "source": [
    "# 파일의 이름만 추출하여 이동시킴\n",
    "## 1. 우선 txt 파일만 추출\n",
    "datalist = os.listdir(data_path)\n",
    "\n",
    "txtlist = []\n",
    "for data in datalist :\n",
    "    if 'txt' in data :\n",
    "        txtlist.append(data)\n",
    "    else :\n",
    "        pass\n",
    "        \n",
    "## 2. txt 파일이 비어있는지 확인\n",
    "isemptytxt = []\n",
    "notemptytxt = []\n",
    "\n",
    "for txt in txtlist :\n",
    "    isnotempty = DataProcessingTool.is_file_not_empty(os.path.join(data_path, txt))\n",
    "    if isnotempty is True :\n",
    "        notemptytxt.append(txt)\n",
    "    else :\n",
    "        isemptytxt.append(txt)"
   ]
  },
  {
   "cell_type": "code",
   "execution_count": 5,
   "metadata": {},
   "outputs": [],
   "source": [
    "## 3. background 파일 옮기기\n",
    "for txt in isemptytxt :\n",
    "    DataProcessingTool.file_mover(data_path, background_path, txt)"
   ]
  },
  {
   "cell_type": "markdown",
   "metadata": {},
   "source": [
    "### 클래스 일원화\n",
    "- 모두 클래스를 0으로 만든다"
   ]
  },
  {
   "cell_type": "code",
   "execution_count": 2,
   "metadata": {},
   "outputs": [],
   "source": [
    "# 경로 적기\n",
    "label_path = \"D:/xray_data/label\"\n",
    "oneclass_label_path = \"D:/xray_data/oneclasslabel\""
   ]
  },
  {
   "cell_type": "code",
   "execution_count": 3,
   "metadata": {},
   "outputs": [],
   "source": [
    "### txt 경로 추적\n",
    "datalist = os.listdir(label_path)\n",
    "\n",
    "txtlist = []\n",
    "for data in datalist :\n",
    "    if 'txt' in data :\n",
    "        txtlist.append(data)\n",
    "    else :\n",
    "        pass"
   ]
  },
  {
   "cell_type": "code",
   "execution_count": 4,
   "metadata": {},
   "outputs": [],
   "source": [
    "for txt in txtlist :\n",
    "    ### 텍스트 파일 열기\n",
    "    lines = DataProcessingTool.open_txt(os.path.join(label_path, txt))\n",
    "    ### 클래스 일원화\n",
    "    modify_lines = DataProcessingTool.oneclass_modify(lines)\n",
    "    ### 다른 곳 저장\n",
    "    save_txt = os.path.join(oneclass_label_path, txt)\n",
    "    DataProcessingTool.save_list_to_txt(save_txt, modify_lines)"
   ]
  },
  {
   "cell_type": "markdown",
   "metadata": {},
   "source": [
    "### 확률값 제거"
   ]
  },
  {
   "cell_type": "code",
   "execution_count": 5,
   "metadata": {},
   "outputs": [],
   "source": [
    "# 경로 작성\n",
    "datapath = \"D:/xray_data/ocl_NAJU\"\n",
    "savepath = \"D:/xray_data/temp_label\""
   ]
  },
  {
   "cell_type": "code",
   "execution_count": 6,
   "metadata": {},
   "outputs": [],
   "source": [
    "### txt 경로 추적\n",
    "datalist = os.listdir(datapath)\n",
    "\n",
    "txtlist = []\n",
    "for data in datalist :\n",
    "    if 'txt' in data :\n",
    "        txtlist.append(data)\n",
    "    else :\n",
    "        pass"
   ]
  },
  {
   "cell_type": "code",
   "execution_count": 7,
   "metadata": {},
   "outputs": [],
   "source": [
    "for txt in txtlist :\n",
    "    lines = DataProcessingTool.open_txt(os.path.join(datapath, txt))\n",
    "    drop_probs_lines = DataProcessingTool.drop_probs(lines)\n",
    "    DataProcessingTool.save_list_to_txt(os.path.join(savepath, txt), drop_probs_lines)"
   ]
  },
  {
   "cell_type": "markdown",
   "metadata": {},
   "source": [
    "### 라벨링 데이터 Train Test Split"
   ]
  },
  {
   "cell_type": "code",
   "execution_count": 26,
   "metadata": {},
   "outputs": [],
   "source": [
    "from sklearn.model_selection import train_test_split\n",
    "import DataProcessingTool\n",
    "import os"
   ]
  },
  {
   "cell_type": "code",
   "execution_count": 27,
   "metadata": {},
   "outputs": [],
   "source": [
    "### 경로 입력\n",
    "data_path = 'D:/xray_data/data'\n",
    "train_path = 'D:/xray_data/train_data'\n",
    "test_path = 'D:/xray_data/test_data'"
   ]
  },
  {
   "cell_type": "code",
   "execution_count": 28,
   "metadata": {},
   "outputs": [],
   "source": [
    "### txt 경로 추적\n",
    "datalist = os.listdir(data_path)\n",
    "\n",
    "txtlist = []\n",
    "for data in datalist :\n",
    "    if 'txt' in data :\n",
    "        txtlist.append(data)\n",
    "    else :\n",
    "        pass"
   ]
  },
  {
   "cell_type": "code",
   "execution_count": 29,
   "metadata": {},
   "outputs": [],
   "source": [
    "### train test split\n",
    "train, test= train_test_split(txtlist,test_size = 0.2, random_state=42)"
   ]
  },
  {
   "cell_type": "code",
   "execution_count": 30,
   "metadata": {},
   "outputs": [],
   "source": [
    "### train 파일 옮기기\n",
    "for txt in train :\n",
    "    DataProcessingTool.file_mover(data_path, train_path, txt)"
   ]
  },
  {
   "cell_type": "code",
   "execution_count": 31,
   "metadata": {},
   "outputs": [],
   "source": [
    "### test 파일 옮기기\n",
    "for txt in test :\n",
    "    DataProcessingTool.file_mover(data_path, test_path, txt)"
   ]
  },
  {
   "cell_type": "markdown",
   "metadata": {},
   "source": [
    "### 백그라운드 데이터 Train Test Split"
   ]
  },
  {
   "cell_type": "code",
   "execution_count": 32,
   "metadata": {},
   "outputs": [],
   "source": [
    "from sklearn.model_selection import train_test_split\n",
    "import DataProcessingTool\n",
    "import os"
   ]
  },
  {
   "cell_type": "code",
   "execution_count": 46,
   "metadata": {},
   "outputs": [],
   "source": [
    "### 경로 입력\n",
    "data_path = 'D:/xray_data/background'\n",
    "train_path = 'D:/xray_data/train_data'\n",
    "test_path = 'D:/xray_data/test_data'"
   ]
  },
  {
   "cell_type": "code",
   "execution_count": 47,
   "metadata": {},
   "outputs": [],
   "source": [
    "### txt 경로 추적\n",
    "datalist = os.listdir(data_path)\n",
    "\n",
    "txtlist = []\n",
    "for data in datalist :\n",
    "    if 'txt' in data :\n",
    "        txtlist.append(data)\n",
    "    else :\n",
    "        pass"
   ]
  },
  {
   "cell_type": "code",
   "execution_count": 48,
   "metadata": {},
   "outputs": [],
   "source": [
    "### 1. 10%만 뽑기\n",
    "### train test split\n",
    "_, bgdata= train_test_split(txtlist, test_size = 0.1, random_state=42)"
   ]
  },
  {
   "cell_type": "code",
   "execution_count": 49,
   "metadata": {},
   "outputs": [],
   "source": [
    "### 1. train 80 test 20 나누기\n",
    "### train test split\n",
    "train, test= train_test_split(bgdata, test_size = 0.2, random_state=42)"
   ]
  },
  {
   "cell_type": "code",
   "execution_count": 53,
   "metadata": {},
   "outputs": [],
   "source": [
    "### train 파일 옮기기\n",
    "for txt in train :\n",
    "    DataProcessingTool.file_mover(data_path, train_path, txt)"
   ]
  },
  {
   "cell_type": "code",
   "execution_count": 54,
   "metadata": {},
   "outputs": [],
   "source": [
    "### test 파일 옮기기\n",
    "for txt in test :\n",
    "    DataProcessingTool.file_mover(data_path, test_path, txt)"
   ]
  }
 ],
 "metadata": {
  "kernelspec": {
   "display_name": "xray",
   "language": "python",
   "name": "python3"
  },
  "language_info": {
   "codemirror_mode": {
    "name": "ipython",
    "version": 3
   },
   "file_extension": ".py",
   "mimetype": "text/x-python",
   "name": "python",
   "nbconvert_exporter": "python",
   "pygments_lexer": "ipython3",
   "version": "3.8.0"
  }
 },
 "nbformat": 4,
 "nbformat_minor": 2
}
